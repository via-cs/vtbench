{
 "cells": [
  {
   "cell_type": "code",
   "execution_count": null,
   "id": "1ad9c341-0308-4404-9533-3969a03858a1",
   "metadata": {},
   "outputs": [],
   "source": [
    "import numpy as np\n",
    "import matplotlib.pyplot as plt\n",
    "import random\n",
    "\n",
    "# Preprocessing functions (from your code)\n",
    "def read_ucr(filename):\n",
    "    data = []\n",
    "    labels = []\n",
    "    with open(filename, 'r') as file:\n",
    "        for line in file:\n",
    "            parts = line.strip().split(',')\n",
    "            if len(parts) < 2:\n",
    "                continue\n",
    "            features = [float(f) for f in parts[:-1]]\n",
    "            label = int(parts[-1].split(':')[-1]) - 1\n",
    "            data.append(features)\n",
    "            labels.append(label)\n",
    "    return np.array(data), np.array(labels)\n",
    "\n",
    "def normalize_data(x_train, x_test):\n",
    "    x_train_mean = x_train.mean()\n",
    "    x_train_std = x_train.std()\n",
    "    x_train = (x_train - x_train_mean) / x_train_std\n",
    "    x_test = (x_test - x_train_mean) / x_train_std\n",
    "    return x_train, x_test\n",
    "\n",
    "# Visualization function for random instances of each class\n",
    "def plot_random_instances_by_class(data, labels, num_instances=1):\n",
    "    unique_classes = np.unique(labels)\n",
    "    plt.figure(figsize=(10, 5 * len(unique_classes)))\n",
    "\n",
    "    for i, cls in enumerate(unique_classes):\n",
    "        # Select random instances of this class\n",
    "        cls_indices = np.where(labels == cls)[0]\n",
    "        random_indices = random.sample(list(cls_indices), min(num_instances, len(cls_indices)))\n",
    "        \n",
    "        for idx in random_indices:\n",
    "            plt.plot(data[idx], label=f'Instance {idx}', alpha=0.7)\n",
    "        \n",
    "        plt.title(f'Class {cls} - {num_instances} Random Instances')\n",
    "        plt.xlabel('Time Steps')\n",
    "        plt.ylabel('Values')\n",
    "        plt.legend()\n",
    "        plt.show()\n",
    "\n",
    "train_file = 'data/ECG5000/ECG5000_TRAIN.ts'\n",
    "test_file = 'data/ECG5000/ECG5000_TEST.ts'\n",
    "\n",
    "x_train, y_train = read_ucr(train_file)\n",
    "x_test, y_test = read_ucr(test_file)\n",
    "x_train, x_test = normalize_data(x_train, x_test)\n",
    "\n",
    "# Plot line charts for each class\n",
    "plot_random_instances_by_class(x_train, y_train, num_instances=3)\n"
   ]
  }
 ],
 "metadata": {
  "kernelspec": {
   "display_name": "Python 3 (ipykernel)",
   "language": "python",
   "name": "python3"
  },
  "language_info": {
   "codemirror_mode": {
    "name": "ipython",
    "version": 3
   },
   "file_extension": ".py",
   "mimetype": "text/x-python",
   "name": "python",
   "nbconvert_exporter": "python",
   "pygments_lexer": "ipython3",
   "version": "3.10.12"
  }
 },
 "nbformat": 4,
 "nbformat_minor": 5
}
