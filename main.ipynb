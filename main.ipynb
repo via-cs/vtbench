{
 "cells": [
  {
   "cell_type": "code",
   "execution_count": 1,
   "id": "29f28ff8-2840-4484-8174-dd2d7b6993b6",
   "metadata": {},
   "outputs": [
    {
     "name": "stderr",
     "output_type": "stream",
     "text": [
      "/Library/Frameworks/Python.framework/Versions/3.12/lib/python3.12/site-packages/tqdm/auto.py:21: TqdmWarning: IProgress not found. Please update jupyter and ipywidgets. See https://ipywidgets.readthedocs.io/en/stable/user_install.html\n",
      "  from .autonotebook import tqdm as notebook_tqdm\n",
      "Matplotlib is building the font cache; this may take a moment.\n"
     ]
    },
    {
     "name": "stdout",
     "output_type": "stream",
     "text": [
      "CombinedModel(\n",
      "  (cnn_area): SimpleCNN(\n",
      "    (layer_stack): Sequential(\n",
      "      (0): Conv2d(3, 32, kernel_size=(3, 3), stride=(1, 1), padding=(1, 1))\n",
      "      (1): BatchNorm2d(32, eps=1e-05, momentum=0.1, affine=True, track_running_stats=True)\n",
      "      (2): ReLU()\n",
      "      (3): MaxPool2d(kernel_size=2, stride=2, padding=0, dilation=1, ceil_mode=False)\n",
      "      (4): Conv2d(32, 64, kernel_size=(3, 3), stride=(1, 1), padding=(1, 1))\n",
      "      (5): BatchNorm2d(64, eps=1e-05, momentum=0.1, affine=True, track_running_stats=True)\n",
      "      (6): ReLU()\n",
      "      (7): MaxPool2d(kernel_size=2, stride=2, padding=0, dilation=1, ceil_mode=False)\n",
      "      (8): Conv2d(64, 128, kernel_size=(3, 3), stride=(1, 1), padding=(1, 1))\n",
      "      (9): BatchNorm2d(128, eps=1e-05, momentum=0.1, affine=True, track_running_stats=True)\n",
      "      (10): ReLU()\n",
      "      (11): MaxPool2d(kernel_size=2, stride=2, padding=0, dilation=1, ceil_mode=False)\n",
      "      (12): Flatten(start_dim=1, end_dim=-1)\n",
      "    )\n",
      "  )\n",
      "  (cnn_bar): SimpleCNN(\n",
      "    (layer_stack): Sequential(\n",
      "      (0): Conv2d(3, 32, kernel_size=(3, 3), stride=(1, 1), padding=(1, 1))\n",
      "      (1): BatchNorm2d(32, eps=1e-05, momentum=0.1, affine=True, track_running_stats=True)\n",
      "      (2): ReLU()\n",
      "      (3): MaxPool2d(kernel_size=2, stride=2, padding=0, dilation=1, ceil_mode=False)\n",
      "      (4): Conv2d(32, 64, kernel_size=(3, 3), stride=(1, 1), padding=(1, 1))\n",
      "      (5): BatchNorm2d(64, eps=1e-05, momentum=0.1, affine=True, track_running_stats=True)\n",
      "      (6): ReLU()\n",
      "      (7): MaxPool2d(kernel_size=2, stride=2, padding=0, dilation=1, ceil_mode=False)\n",
      "      (8): Conv2d(64, 128, kernel_size=(3, 3), stride=(1, 1), padding=(1, 1))\n",
      "      (9): BatchNorm2d(128, eps=1e-05, momentum=0.1, affine=True, track_running_stats=True)\n",
      "      (10): ReLU()\n",
      "      (11): MaxPool2d(kernel_size=2, stride=2, padding=0, dilation=1, ceil_mode=False)\n",
      "      (12): Flatten(start_dim=1, end_dim=-1)\n",
      "    )\n",
      "  )\n",
      "  (fc1): Sequential(\n",
      "    (0): Linear(in_features=65536, out_features=256, bias=True)\n",
      "    (1): ReLU()\n",
      "    (2): Dropout(p=0.5, inplace=False)\n",
      "    (3): Linear(in_features=256, out_features=128, bias=True)\n",
      "    (4): ReLU()\n",
      "    (5): Dropout(p=0.5, inplace=False)\n",
      "    (6): Linear(in_features=128, out_features=64, bias=True)\n",
      "    (7): ReLU()\n",
      "    (8): Linear(in_features=64, out_features=37, bias=True)\n",
      "  )\n",
      ")\n"
     ]
    },
    {
     "name": "stderr",
     "output_type": "stream",
     "text": [
      "Training Progress:   0%|          | 0/5 [00:00<?, ?it/s]"
     ]
    },
    {
     "name": "stdout",
     "output_type": "stream",
     "text": [
      "Epoch: 1/5\n",
      "-------\n",
      "Training Loss: 4.8156 | Training Accuracy: 3.85%\n"
     ]
    },
    {
     "name": "stderr",
     "output_type": "stream",
     "text": [
      "Training Progress:  20%|██        | 1/5 [00:31<02:06, 31.65s/it]"
     ]
    },
    {
     "name": "stdout",
     "output_type": "stream",
     "text": [
      "Test Loss: 3.6181 | Test Accuracy: 4.09%\n",
      "Epoch: 2/5\n",
      "-------\n",
      "Training Loss: 3.6703 | Training Accuracy: 2.82%\n"
     ]
    },
    {
     "name": "stderr",
     "output_type": "stream",
     "text": [
      "Training Progress:  40%|████      | 2/5 [01:03<01:35, 31.73s/it]"
     ]
    },
    {
     "name": "stdout",
     "output_type": "stream",
     "text": [
      "Test Loss: 3.6181 | Test Accuracy: 2.81%\n",
      "Epoch: 3/5\n",
      "-------\n",
      "Training Loss: 3.6630 | Training Accuracy: 3.59%\n"
     ]
    },
    {
     "name": "stderr",
     "output_type": "stream",
     "text": [
      "Training Progress:  60%|██████    | 3/5 [01:34<01:03, 31.55s/it]"
     ]
    },
    {
     "name": "stdout",
     "output_type": "stream",
     "text": [
      "Test Loss: 3.6198 | Test Accuracy: 3.84%\n",
      "Epoch: 4/5\n",
      "-------\n",
      "Training Loss: 3.6078 | Training Accuracy: 3.08%\n"
     ]
    },
    {
     "name": "stderr",
     "output_type": "stream",
     "text": [
      "Training Progress:  80%|████████  | 4/5 [02:06<00:31, 31.66s/it]"
     ]
    },
    {
     "name": "stdout",
     "output_type": "stream",
     "text": [
      "Test Loss: 3.6164 | Test Accuracy: 1.02%\n",
      "Epoch: 5/5\n",
      "-------\n",
      "Training Loss: 3.6109 | Training Accuracy: 4.62%\n"
     ]
    },
    {
     "name": "stderr",
     "output_type": "stream",
     "text": [
      "Training Progress: 100%|██████████| 5/5 [02:38<00:00, 31.67s/it]"
     ]
    },
    {
     "name": "stdout",
     "output_type": "stream",
     "text": [
      "Test Loss: 3.6160 | Test Accuracy: 3.07%\n"
     ]
    },
    {
     "name": "stderr",
     "output_type": "stream",
     "text": [
      "\n"
     ]
    }
   ],
   "source": [
    "import numpy as np\n",
    "import torch\n",
    "import torch.nn as nn\n",
    "import torch.optim as optim\n",
    "from torch.utils.data import DataLoader\n",
    "from torchvision import transforms\n",
    "from tqdm import tqdm\n",
    "\n",
    "# Custom functions to create visual charts\n",
    "from chart_utils import TimeSeriesImageDataset, create_area_chart, create_bar_chart\n",
    "\n",
    "# Check if GPU is available\n",
    "device = torch.device(\"cuda\" if torch.cuda.is_available() else \"cpu\")\n",
    "\n",
    "# Read UCR Dataset\n",
    "def read_ucr(filename):\n",
    "    data = np.loadtxt(filename, delimiter=',')\n",
    "    Y = data[:, 0]\n",
    "    X = data[:, 1:]\n",
    "    return X, Y\n",
    "\n",
    "# File paths\n",
    "train_file = 'Adiac/Adiac_TRAIN'\n",
    "test_file = 'Adiac/Adiac_TEST'\n",
    "\n",
    "# Load dataset\n",
    "x_train, y_train = read_ucr(train_file)\n",
    "x_test, y_test = read_ucr(test_file)\n",
    "\n",
    "# Normalize labels to be within range [0, num_classes-1]\n",
    "nb_classes = len(np.unique(y_test))\n",
    "y_train = (y_train - y_train.min()).astype(int)\n",
    "y_test = (y_test - y_test.min()).astype(int)\n",
    "\n",
    "# Normalize features\n",
    "x_train_mean = x_train.mean()\n",
    "x_train_std = x_train.std()\n",
    "x_train = (x_train - x_train_mean) / x_train_std\n",
    "x_test = (x_test - x_train_mean) / x_train_std\n",
    "\n",
    "# Create dataset and dataloader\n",
    "transform = transforms.Compose([\n",
    "    transforms.Resize((128, 128)),\n",
    "    transforms.ToTensor(),\n",
    "    transforms.RandomHorizontalFlip(),\n",
    "    transforms.RandomVerticalFlip(),\n",
    "    transforms.ColorJitter(brightness=0.2, contrast=0.2, saturation=0.2, hue=0.2)\n",
    "])\n",
    "train_dataset = TimeSeriesImageDataset(x_train, y_train, transform)\n",
    "test_dataset = TimeSeriesImageDataset(x_test, y_test, transform)\n",
    "\n",
    "train_dataloader = DataLoader(train_dataset, batch_size=32, shuffle=True)\n",
    "test_dataloader = DataLoader(test_dataset, batch_size=32, shuffle=False)\n",
    "\n",
    "# Define SimpleCNN\n",
    "class SimpleCNN(nn.Module):\n",
    "    def __init__(self, input_channels):\n",
    "        super(SimpleCNN, self).__init__()\n",
    "        self.layer_stack = nn.Sequential(\n",
    "            nn.Conv2d(input_channels, 32, kernel_size=3, padding=1),\n",
    "            nn.BatchNorm2d(32),\n",
    "            nn.ReLU(),\n",
    "            nn.MaxPool2d(kernel_size=2, stride=2),\n",
    "            nn.Conv2d(32, 64, kernel_size=3, padding=1),\n",
    "            nn.BatchNorm2d(64),\n",
    "            nn.ReLU(),\n",
    "            nn.MaxPool2d(kernel_size=2, stride=2),\n",
    "            nn.Conv2d(64, 128, kernel_size=3, padding=1),\n",
    "            nn.BatchNorm2d(128),\n",
    "            nn.ReLU(),\n",
    "            nn.MaxPool2d(kernel_size=2, stride=2),\n",
    "            nn.Flatten()\n",
    "        )\n",
    "\n",
    "    def forward(self, x):\n",
    "        return self.layer_stack(x)\n",
    "\n",
    "# Define CombinedModel\n",
    "class CombinedModel(nn.Module):\n",
    "    def __init__(self, input_shape, num_classes):\n",
    "        super(CombinedModel, self).__init__()\n",
    "        self.cnn_area = SimpleCNN(input_shape[0])\n",
    "        self.cnn_bar = SimpleCNN(input_shape[0])\n",
    "\n",
    "        # Calculate the flattened feature size\n",
    "        cnn_output_size = self._get_cnn_output_size(input_shape)\n",
    "\n",
    "        # Fully connected layers\n",
    "        self.fc1 = nn.Sequential(\n",
    "            nn.Linear(cnn_output_size * 2, 256),\n",
    "            nn.ReLU(),\n",
    "            nn.Dropout(0.5),\n",
    "            nn.Linear(256, 128),\n",
    "            nn.ReLU(),\n",
    "            nn.Dropout(0.5),\n",
    "            nn.Linear(128, 64),\n",
    "            nn.ReLU(),\n",
    "            nn.Linear(64, num_classes)\n",
    "        )\n",
    "        \n",
    "    # Flattened output size of CNN\n",
    "    def _get_cnn_output_size(self, input_shape):\n",
    "        dummy_input = torch.zeros(1, *input_shape).to(device)\n",
    "        output = self.cnn_area(dummy_input)\n",
    "        return output.view(1, -1).size(1)\n",
    "\n",
    "    def forward(self, x_area, x_bar):\n",
    "        features_area = self.cnn_area(x_area)\n",
    "        features_bar = self.cnn_bar(x_bar)\n",
    "\n",
    "        concatenated_features = torch.cat((features_area, features_bar), dim=1)\n",
    "\n",
    "        return self.fc1(concatenated_features)\n",
    "\n",
    "# Example usage of the model\n",
    "input_shape = (3, 128, 128)  # Example input shape (channels, height, width)\n",
    "num_classes = nb_classes  # Number of output classes\n",
    "\n",
    "model = CombinedModel(input_shape, num_classes).to(device)\n",
    "print(model)\n",
    "\n",
    "# Training loop with accuracy and classified output\n",
    "criterion = nn.CrossEntropyLoss()\n",
    "optimizer = optim.Adam(model.parameters(), lr=0.001)\n",
    "\n",
    "scheduler = optim.lr_scheduler.ReduceLROnPlateau(optimizer, 'min', patience=3, factor=0.5)\n",
    "\n",
    "num_epochs = 5\n",
    "overall_progress_bar = tqdm(range(num_epochs), desc=\"Training Progress\")\n",
    "for epoch in overall_progress_bar:\n",
    "    print(f\"Epoch: {epoch+1}/{num_epochs}\\n-------\")\n",
    "    running_loss = 0.0\n",
    "    correct = 0\n",
    "    total = 0\n",
    "    all_labels = []\n",
    "    all_predictions = []\n",
    "\n",
    "    # Training phase\n",
    "    model.train()\n",
    "    for batch, (images_area, images_bar, labels) in enumerate(train_dataloader):\n",
    "        optimizer.zero_grad()\n",
    "\n",
    "        # Move data to device\n",
    "        images_area, images_bar, labels = images_area.to(device), images_bar.to(device), labels.to(device)\n",
    "\n",
    "        # Convert labels to LongTensor\n",
    "        labels = labels.long()\n",
    "\n",
    "        outputs = model(images_area, images_bar)\n",
    "        loss = criterion(outputs, labels)\n",
    "        running_loss += loss.item()\n",
    "\n",
    "        loss.backward()\n",
    "        optimizer.step()\n",
    "\n",
    "        # Calculate accuracy\n",
    "        _, predicted = torch.max(outputs.data, 1)\n",
    "        total += labels.size(0)\n",
    "        correct += (predicted == labels).sum().item()\n",
    "\n",
    "        # Collect labels and predictions for output\n",
    "        all_labels.extend(labels.cpu().numpy())\n",
    "        all_predictions.extend(predicted.cpu().numpy())\n",
    "\n",
    "    # Divide total train loss by length of train dataloader (average loss per batch per epoch)\n",
    "    epoch_loss = running_loss / len(train_dataloader)\n",
    "    epoch_accuracy = 100 * correct / total\n",
    "\n",
    "    print(f'Training Loss: {epoch_loss:.4f} | Training Accuracy: {epoch_accuracy:.2f}%')\n",
    "\n",
    "    # Testing phase\n",
    "    model.eval()\n",
    "    test_loss = 0.0\n",
    "    correct = 0\n",
    "    total = 0\n",
    "    with torch.inference_mode():\n",
    "        for images_area, images_bar, labels in test_dataloader:\n",
    "            # Move data to device\n",
    "            images_area, images_bar, labels = images_area.to(device), images_bar.to(device), labels.to(device)\n",
    "            \n",
    "            labels = labels.long()\n",
    "            outputs = model(images_area, images_bar)\n",
    "            loss = criterion(outputs, labels)\n",
    "            test_loss += loss.item()\n",
    "\n",
    "            _, predicted = torch.max(outputs.data, 1)\n",
    "            total += labels.size(0)\n",
    "            correct += (predicted == labels).sum().item()\n",
    "\n",
    "    test_loss /= len(test_dataloader)\n",
    "    test_accuracy = 100 * correct / total\n",
    "\n",
    "    print(f'Test Loss: {test_loss:.4f} | Test Accuracy: {test_accuracy:.2f}%')\n",
    "\n",
    "    # Step the scheduler\n",
    "    scheduler.step(test_loss)"
   ]
  },
  {
   "cell_type": "code",
   "execution_count": null,
   "id": "38cef885-758c-4303-8ba0-ba11b337ec83",
   "metadata": {},
   "outputs": [],
   "source": []
  }
 ],
 "metadata": {
  "kernelspec": {
   "display_name": "Python 3 (ipykernel)",
   "language": "python",
   "name": "python3"
  },
  "language_info": {
   "codemirror_mode": {
    "name": "ipython",
    "version": 3
   },
   "file_extension": ".py",
   "mimetype": "text/x-python",
   "name": "python",
   "nbconvert_exporter": "python",
   "pygments_lexer": "ipython3",
   "version": "3.12.2"
  }
 },
 "nbformat": 4,
 "nbformat_minor": 5
}
